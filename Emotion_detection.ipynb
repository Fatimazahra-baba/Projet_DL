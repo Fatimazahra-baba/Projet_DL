{
  "nbformat": 4,
  "nbformat_minor": 0,
  "metadata": {
    "colab": {
      "name": "Emotion_detection.ipynb",
      "provenance": [],
      "collapsed_sections": [],
      "authorship_tag": "ABX9TyMUpEuv9F7qN1jq9YCw9JLk",
      "include_colab_link": true
    },
    "kernelspec": {
      "name": "python3",
      "display_name": "Python 3"
    }
  },
  "cells": [
    {
      "cell_type": "markdown",
      "metadata": {
        "id": "view-in-github",
        "colab_type": "text"
      },
      "source": [
        "<a href=\"https://colab.research.google.com/github/Fatimazahra-baba/Projet_DL/blob/master/Emotion_detection.ipynb\" target=\"_parent\"><img src=\"https://colab.research.google.com/assets/colab-badge.svg\" alt=\"Open In Colab\"/></a>"
      ]
    },
    {
      "cell_type": "code",
      "metadata": {
        "id": "F4vEcJreleZj",
        "colab_type": "code",
        "outputId": "9083f06c-0915-42f9-eab2-56c7120fb7b4",
        "colab": {
          "base_uri": "https://localhost:8080/",
          "height": 122
        }
      },
      "source": [
        "from google.colab import drive\n",
        "drive.mount('/content/drive')"
      ],
      "execution_count": 2,
      "outputs": [
        {
          "output_type": "stream",
          "text": [
            "Go to this URL in a browser: https://accounts.google.com/o/oauth2/auth?client_id=947318989803-6bn6qk8qdgf4n4g3pfee6491hc0brc4i.apps.googleusercontent.com&redirect_uri=urn%3aietf%3awg%3aoauth%3a2.0%3aoob&response_type=code&scope=email%20https%3a%2f%2fwww.googleapis.com%2fauth%2fdocs.test%20https%3a%2f%2fwww.googleapis.com%2fauth%2fdrive%20https%3a%2f%2fwww.googleapis.com%2fauth%2fdrive.photos.readonly%20https%3a%2f%2fwww.googleapis.com%2fauth%2fpeopleapi.readonly\n",
            "\n",
            "Enter your authorization code:\n",
            "··········\n",
            "Mounted at /content/drive\n"
          ],
          "name": "stdout"
        }
      ]
    },
    {
      "cell_type": "code",
      "metadata": {
        "id": "66uWJWH1mquZ",
        "colab_type": "code",
        "colab": {}
      },
      "source": [
        "!pip install -q keras"
      ],
      "execution_count": 0,
      "outputs": []
    },
    {
      "cell_type": "markdown",
      "metadata": {
        "id": "a7cyBD7eHnAU",
        "colab_type": "text"
      },
      "source": [
        "***Importer les libraries***"
      ]
    },
    {
      "cell_type": "code",
      "metadata": {
        "id": "BO0YWlk5EmoT",
        "colab_type": "code",
        "colab": {
          "base_uri": "https://localhost:8080/",
          "height": 34
        },
        "outputId": "4ea7fded-2ae6-4ca8-ab48-b6066ec3f243"
      },
      "source": [
        "import tensorflow as tf\n",
        "import keras\n",
        "from keras.preprocessing.image import ImageDataGenerator\n",
        "from keras.models import Sequential\n",
        "from keras.layers import Dense, Dropout, Flatten\n",
        "from keras.layers import Conv2D, MaxPooling2D, Activation,BatchNormalization\n",
        "from keras.utils import to_categorical\n",
        "from tensorflow.keras import activations\n",
        "from keras.preprocessing import image\n",
        "from tensorflow.keras import datasets, layers, models\n",
        "import numpy as np\n",
        "import pandas as pd\n",
        "import matplotlib.pyplot as plt\n",
        "from sklearn.model_selection import train_test_split\n",
        "from keras.utils import to_categorical\n",
        "\n"
      ],
      "execution_count": 4,
      "outputs": [
        {
          "output_type": "stream",
          "text": [
            "Using TensorFlow backend.\n"
          ],
          "name": "stderr"
        }
      ]
    },
    {
      "cell_type": "markdown",
      "metadata": {
        "id": "1p8RnuJ3HhLR",
        "colab_type": "text"
      },
      "source": [
        "***Telecharger notre dataset :***"
      ]
    },
    {
      "cell_type": "code",
      "metadata": {
        "id": "x04DkqF7JGu1",
        "colab_type": "code",
        "colab": {}
      },
      "source": [
        "\n",
        "train_path = '/content/drive/My Drive/train set'\n",
        "validation_path = '/content/drive/My Drive/validation dataset'\n"
      ],
      "execution_count": 0,
      "outputs": []
    },
    {
      "cell_type": "markdown",
      "metadata": {
        "id": "MuR6twZwbPzO",
        "colab_type": "text"
      },
      "source": [
        "***import the images from the dataset***"
      ]
    },
    {
      "cell_type": "code",
      "metadata": {
        "id": "dYEtZKOqp2NZ",
        "colab_type": "code",
        "outputId": "b3c34312-0fa4-41a0-9a09-2ee37716d731",
        "colab": {
          "base_uri": "https://localhost:8080/",
          "height": 51
        }
      },
      "source": [
        "num_classes = 5\n",
        "img_rows,img_cols = 48,48\n",
        "batch_size = 64 \n",
        "\n",
        "train_datagen = ImageDataGenerator(\n",
        "\t\t\t\t\trescale=1./255,\n",
        "\t\t\t\t\trotation_range=30,\n",
        "\t\t\t\t\tshear_range=0.3,\n",
        "\t\t\t\t\tzoom_range=0.3,\n",
        "\t\t\t\t\twidth_shift_range=0.4,\n",
        "\t\t\t\t\theight_shift_range=0.4,\n",
        "\t\t\t\t\thorizontal_flip=True,\n",
        "\t\t\t\t\tfill_mode='nearest')\n",
        "\n",
        "validation_datagen = ImageDataGenerator(rescale=1./255)\n",
        "\n",
        "train_generator = train_datagen.flow_from_directory(\n",
        "\t\t\t\t\ttrain_path,\n",
        "\t\t\t\t\tcolor_mode='grayscale',\n",
        "\t\t\t\t\ttarget_size=(img_rows,img_cols),\n",
        "\t\t\t\t\tbatch_size=batch_size,\n",
        "\t\t\t\t\tclass_mode='categorical',\n",
        "\t\t\t\t\tshuffle=True)\n",
        "\n",
        "validation_generator = validation_datagen.flow_from_directory(\n",
        "\t\t\t\t\t\t\tvalidation_path,\n",
        "\t\t\t\t\t\t\tcolor_mode='grayscale',\n",
        "\t\t\t\t\t\t\ttarget_size=(img_rows,img_cols),\n",
        "\t\t\t\t\t\t\tbatch_size=batch_size,\n",
        "\t\t\t\t\t\t\tclass_mode='categorical',\n",
        "\t\t\t\t\t\t\tshuffle=True)\n",
        "\n",
        "\n"
      ],
      "execution_count": 47,
      "outputs": [
        {
          "output_type": "stream",
          "text": [
            "Found 24261 images belonging to 5 classes.\n",
            "Found 3006 images belonging to 5 classes.\n"
          ],
          "name": "stdout"
        }
      ]
    },
    {
      "cell_type": "code",
      "metadata": {
        "id": "H0rLDssGFK50",
        "colab_type": "code",
        "outputId": "e1e468e9-f112-40da-8d8d-651b8d507d44",
        "colab": {
          "base_uri": "https://localhost:8080/",
          "height": 561
        }
      },
      "source": [
        "model = Sequential()\n",
        "model.add(Conv2D(32, (3, 3), activation='relu', input_shape=(48, 48, 1)))\n",
        "model.add(Conv2D(32, (3, 3), activation='relu'))\n",
        "model.add(MaxPooling2D(pool_size=(2, 2)))\n",
        "model.add(Dropout(0.25))\n",
        "\n",
        "model.add(Conv2D(64, (3, 3), activation='relu'))\n",
        "model.add(Conv2D(64, (3, 3), activation='relu'))\n",
        "model.add(MaxPooling2D(pool_size=(2, 2)))\n",
        "model.add(Dropout(0.25))\n",
        "\n",
        "model.add(Flatten())\n",
        "model.add(Dense(256, activation='relu'))\n",
        "model.add(Dropout(0.5))\n",
        "model.add(Dense(5, activation='softmax'))\n",
        "\n",
        "\n",
        "model.summary()"
      ],
      "execution_count": 69,
      "outputs": [
        {
          "output_type": "stream",
          "text": [
            "Model: \"sequential_4\"\n",
            "_________________________________________________________________\n",
            "Layer (type)                 Output Shape              Param #   \n",
            "=================================================================\n",
            "conv2d_10 (Conv2D)           (None, 46, 46, 32)        320       \n",
            "_________________________________________________________________\n",
            "conv2d_11 (Conv2D)           (None, 44, 44, 32)        9248      \n",
            "_________________________________________________________________\n",
            "max_pooling2d_5 (MaxPooling2 (None, 22, 22, 32)        0         \n",
            "_________________________________________________________________\n",
            "dropout_7 (Dropout)          (None, 22, 22, 32)        0         \n",
            "_________________________________________________________________\n",
            "conv2d_12 (Conv2D)           (None, 20, 20, 64)        18496     \n",
            "_________________________________________________________________\n",
            "conv2d_13 (Conv2D)           (None, 18, 18, 64)        36928     \n",
            "_________________________________________________________________\n",
            "max_pooling2d_6 (MaxPooling2 (None, 9, 9, 64)          0         \n",
            "_________________________________________________________________\n",
            "dropout_8 (Dropout)          (None, 9, 9, 64)          0         \n",
            "_________________________________________________________________\n",
            "flatten_3 (Flatten)          (None, 5184)              0         \n",
            "_________________________________________________________________\n",
            "dense_7 (Dense)              (None, 256)               1327360   \n",
            "_________________________________________________________________\n",
            "dropout_9 (Dropout)          (None, 256)               0         \n",
            "_________________________________________________________________\n",
            "dense_8 (Dense)              (None, 5)                 1285      \n",
            "=================================================================\n",
            "Total params: 1,393,637\n",
            "Trainable params: 1,393,637\n",
            "Non-trainable params: 0\n",
            "_________________________________________________________________\n"
          ],
          "name": "stdout"
        }
      ]
    },
    {
      "cell_type": "markdown",
      "metadata": {
        "id": "8K_z8gbwP2WN",
        "colab_type": "text"
      },
      "source": [
        "***Compile and train the model***"
      ]
    },
    {
      "cell_type": "code",
      "metadata": {
        "id": "wzw0_JwQBcS_",
        "colab_type": "code",
        "outputId": "750e106e-a70b-455d-8b2f-817c8495b239",
        "colab": {
          "base_uri": "https://localhost:8080/",
          "height": 1000
        }
      },
      "source": [
        "from keras.optimizers import RMSprop,SGD,Adam\n",
        "model.compile(loss='categorical_crossentropy', optimizer='adam',metrics=['accuracy'])\n",
        "\n",
        "nb_train_samples = 24176\n",
        "nb_validation_samples = 3006\n",
        "\n",
        "\n",
        "history=model.fit(train_generator,\n",
        "                    epochs=30,\n",
        "                    validation_data=validation_generator,\n",
        "                    validation_steps=validation_generator.samples // batch_size)"
      ],
      "execution_count": 74,
      "outputs": [
        {
          "output_type": "stream",
          "text": [
            "Epoch 1/30\n",
            "380/380 [==============================] - 224s 591ms/step - loss: 1.3048 - accuracy: 0.4538 - val_loss: 1.5588 - val_accuracy: 0.5078\n",
            "Epoch 2/30\n",
            "380/380 [==============================] - 225s 592ms/step - loss: 1.2938 - accuracy: 0.4538 - val_loss: 1.1603 - val_accuracy: 0.5071\n",
            "Epoch 3/30\n",
            "380/380 [==============================] - 219s 577ms/step - loss: 1.2962 - accuracy: 0.4566 - val_loss: 1.4365 - val_accuracy: 0.5068\n",
            "Epoch 4/30\n",
            "380/380 [==============================] - 227s 597ms/step - loss: 1.2821 - accuracy: 0.4622 - val_loss: 1.1224 - val_accuracy: 0.5197\n",
            "Epoch 5/30\n",
            "380/380 [==============================] - 226s 595ms/step - loss: 1.2903 - accuracy: 0.4558 - val_loss: 1.3079 - val_accuracy: 0.5275\n",
            "Epoch 6/30\n",
            "380/380 [==============================] - 220s 580ms/step - loss: 1.2827 - accuracy: 0.4643 - val_loss: 1.3913 - val_accuracy: 0.5245\n",
            "Epoch 7/30\n",
            "380/380 [==============================] - 227s 599ms/step - loss: 1.2846 - accuracy: 0.4640 - val_loss: 1.5219 - val_accuracy: 0.5173\n",
            "Epoch 8/30\n",
            "380/380 [==============================] - 226s 595ms/step - loss: 1.2726 - accuracy: 0.4722 - val_loss: 1.2466 - val_accuracy: 0.5245\n",
            "Epoch 9/30\n",
            "380/380 [==============================] - 217s 572ms/step - loss: 1.2739 - accuracy: 0.4687 - val_loss: 1.5918 - val_accuracy: 0.5153\n",
            "Epoch 10/30\n",
            "380/380 [==============================] - 217s 571ms/step - loss: 1.2744 - accuracy: 0.4677 - val_loss: 1.5192 - val_accuracy: 0.5146\n",
            "Epoch 11/30\n",
            "380/380 [==============================] - 220s 580ms/step - loss: 1.2600 - accuracy: 0.4781 - val_loss: 1.3320 - val_accuracy: 0.5255\n",
            "Epoch 12/30\n",
            "380/380 [==============================] - 221s 582ms/step - loss: 1.2745 - accuracy: 0.4700 - val_loss: 1.2478 - val_accuracy: 0.5296\n",
            "Epoch 13/30\n",
            "380/380 [==============================] - 222s 584ms/step - loss: 1.2647 - accuracy: 0.4747 - val_loss: 1.3446 - val_accuracy: 0.5323\n",
            "Epoch 14/30\n",
            "380/380 [==============================] - 216s 567ms/step - loss: 1.2603 - accuracy: 0.4758 - val_loss: 1.2710 - val_accuracy: 0.5122\n",
            "Epoch 15/30\n",
            "380/380 [==============================] - 213s 560ms/step - loss: 1.2524 - accuracy: 0.4785 - val_loss: 1.4126 - val_accuracy: 0.5306\n",
            "Epoch 16/30\n",
            "380/380 [==============================] - 214s 563ms/step - loss: 1.2526 - accuracy: 0.4817 - val_loss: 1.2015 - val_accuracy: 0.5269\n",
            "Epoch 17/30\n",
            "380/380 [==============================] - 210s 551ms/step - loss: 1.2467 - accuracy: 0.4853 - val_loss: 1.5667 - val_accuracy: 0.5411\n",
            "Epoch 18/30\n",
            "380/380 [==============================] - 211s 556ms/step - loss: 1.2560 - accuracy: 0.4808 - val_loss: 1.6052 - val_accuracy: 0.5296\n",
            "Epoch 19/30\n",
            "380/380 [==============================] - 221s 582ms/step - loss: 1.2399 - accuracy: 0.4881 - val_loss: 1.4039 - val_accuracy: 0.5330\n",
            "Epoch 20/30\n",
            "380/380 [==============================] - 220s 579ms/step - loss: 1.2510 - accuracy: 0.4803 - val_loss: 1.3320 - val_accuracy: 0.5523\n",
            "Epoch 21/30\n",
            "380/380 [==============================] - 218s 574ms/step - loss: 1.2305 - accuracy: 0.4947 - val_loss: 1.4397 - val_accuracy: 0.5411\n",
            "Epoch 22/30\n",
            "380/380 [==============================] - 216s 570ms/step - loss: 1.2410 - accuracy: 0.4861 - val_loss: 1.3990 - val_accuracy: 0.5381\n",
            "Epoch 23/30\n",
            "380/380 [==============================] - 209s 550ms/step - loss: 1.2362 - accuracy: 0.4916 - val_loss: 1.3080 - val_accuracy: 0.5272\n",
            "Epoch 24/30\n",
            "380/380 [==============================] - 209s 549ms/step - loss: 1.2328 - accuracy: 0.4891 - val_loss: 1.2856 - val_accuracy: 0.5421\n",
            "Epoch 25/30\n",
            "380/380 [==============================] - 208s 548ms/step - loss: 1.2305 - accuracy: 0.4950 - val_loss: 1.5286 - val_accuracy: 0.5265\n",
            "Epoch 26/30\n",
            "380/380 [==============================] - 204s 537ms/step - loss: 1.2261 - accuracy: 0.4987 - val_loss: 1.3669 - val_accuracy: 0.5384\n",
            "Epoch 27/30\n",
            "380/380 [==============================] - 200s 525ms/step - loss: 1.2259 - accuracy: 0.4954 - val_loss: 1.2864 - val_accuracy: 0.5218\n",
            "Epoch 28/30\n",
            "380/380 [==============================] - 199s 524ms/step - loss: 1.2319 - accuracy: 0.4908 - val_loss: 1.2264 - val_accuracy: 0.5323\n",
            "Epoch 29/30\n",
            "380/380 [==============================] - 194s 511ms/step - loss: 1.2135 - accuracy: 0.5013 - val_loss: 1.0498 - val_accuracy: 0.5530\n",
            "Epoch 30/30\n",
            "380/380 [==============================] - 219s 577ms/step - loss: 1.2146 - accuracy: 0.5023 - val_loss: 1.4044 - val_accuracy: 0.5241\n"
          ],
          "name": "stdout"
        }
      ]
    },
    {
      "cell_type": "markdown",
      "metadata": {
        "id": "urUq5C5XP_vP",
        "colab_type": "text"
      },
      "source": [
        "***Evaluate the model***"
      ]
    },
    {
      "cell_type": "code",
      "metadata": {
        "id": "areYowVVSrnx",
        "colab_type": "code",
        "colab": {
          "base_uri": "https://localhost:8080/",
          "height": 283
        },
        "outputId": "03042245-85cc-4942-c4ae-f8b6634ae22a"
      },
      "source": [
        "plt.plot(history.history['accuracy'], label='accuracy')\n",
        "plt.plot(history.history['val_accuracy'], label = 'val_accuracy')\n",
        "plt.xlabel('Epoch')\n",
        "plt.ylabel('Accuracy')\n",
        "plt.ylim([0.3,0.6])\n",
        "plt.legend(loc='lower right')\n",
        "\n",
        "test_loss, test_acc = model.evaluate(validation_generator,verbose=2)"
      ],
      "execution_count": 77,
      "outputs": [
        {
          "output_type": "display_data",
          "data": {
            "image/png": "[encoded data removed]",
            "text/plain": [
              "<Figure size 432x288 with 1 Axes>"
            ]
          },
          "metadata": {
            "tags": [],
            "needs_background": "light"
          }
        }
      ]
    },
    {
      "cell_type": "markdown",
      "metadata": {
        "id": "yhOo4UWgHiFJ",
        "colab_type": "text"
      },
      "source": [
        "la précision de notre modéle"
      ]
    },
    {
      "cell_type": "code",
      "metadata": {
        "id": "e9RhrCBnTKTz",
        "colab_type": "code",
        "colab": {
          "base_uri": "https://localhost:8080/",
          "height": 34
        },
        "outputId": "b908f6cd-e722-4ed8-9950-a231e4ca7070"
      },
      "source": [
        "print(test_acc)"
      ],
      "execution_count": 78,
      "outputs": [
        {
          "output_type": "stream",
          "text": [
            "0.5372588038444519\n"
          ],
          "name": "stdout"
        }
      ]
    }
  ]
}